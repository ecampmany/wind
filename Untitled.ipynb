{
 "cells": [
  {
   "cell_type": "code",
   "execution_count": 1,
   "id": "36c109d7",
   "metadata": {},
   "outputs": [],
   "source": [
    "import pandas as pd\n",
    "import numpy as np"
   ]
  },
  {
   "cell_type": "code",
   "execution_count": null,
   "id": "9ce4e6fc",
   "metadata": {},
   "outputs": [],
   "source": [
    "vtx_url2='https://api.vortexfdc.com/data/218768/8hqv_PYJNyERVNR9YADBeUJq4bMNQgZK/vortex.reanalysis.Matacaballos.ERA5.txt'\n",
    "era5=pd.read_csv(vtx_url2, skiprows=4, sep='\\s+', names=['date','time', 'speed', 'dir', 'm100','d100','T','P'], parse_dates=[['date','time']])"
   ]
  }
 ],
 "metadata": {
  "kernelspec": {
   "display_name": "vortexpy-dev",
   "language": "python",
   "name": "vortexpy-dev"
  },
  "language_info": {
   "codemirror_mode": {
    "name": "ipython",
    "version": 3
   },
   "file_extension": ".py",
   "mimetype": "text/x-python",
   "name": "python",
   "nbconvert_exporter": "python",
   "pygments_lexer": "ipython3",
   "version": "3.9.15"
  }
 },
 "nbformat": 4,
 "nbformat_minor": 5
}
