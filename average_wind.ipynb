{
 "cells": [
  {
   "cell_type": "code",
   "execution_count": 1,
   "id": "96579174",
   "metadata": {},
   "outputs": [],
   "source": [
    "import pandas as pd\n",
    "import numpy as np"
   ]
  },
  {
   "cell_type": "code",
   "execution_count": 2,
   "id": "f9a17e24",
   "metadata": {},
   "outputs": [],
   "source": [
    "wind_data = pd.read_csv('../../data/series/sample/vortex.serie.txt', \n",
    " header=2, delim_whitespace=True, parse_dates={'timestamp': ['YYYYMMDD', 'HHMM']}, keep_date_col=True)"
   ]
  },
  {
   "cell_type": "code",
   "execution_count": 4,
   "id": "ab25145e",
   "metadata": {},
   "outputs": [],
   "source": [
    "# Define a function to calculate the circular mean\n",
    "def circmean(alpha, low, high):\n",
    "    \"\"\"Calculate the circular mean of an array of angles (in degrees) that range from low to high\"\"\"\n",
    "    alpha = np.deg2rad(alpha)\n",
    "    s = np.sum(np.sin(alpha))\n",
    "    c = np.sum(np.cos(alpha))\n",
    "    res = np.rad2deg(np.arctan2(s, c))\n",
    "    if res < 0:\n",
    "        res += 360\n",
    "    return res"
   ]
  },
  {
   "cell_type": "code",
   "execution_count": 6,
   "id": "f1ac88f8",
   "metadata": {},
   "outputs": [
    {
     "ename": "KeyError",
     "evalue": "\"None of ['timestamp'] are in the columns\"",
     "output_type": "error",
     "traceback": [
      "\u001b[0;31m---------------------------------------------------------------------------\u001b[0m",
      "\u001b[0;31mKeyError\u001b[0m                                  Traceback (most recent call last)",
      "Cell \u001b[0;32mIn [6], line 2\u001b[0m\n\u001b[1;32m      1\u001b[0m \u001b[38;5;66;03m# Set the timestamp column as the index\u001b[39;00m\n\u001b[0;32m----> 2\u001b[0m \u001b[43mwind_data\u001b[49m\u001b[38;5;241;43m.\u001b[39;49m\u001b[43mset_index\u001b[49m\u001b[43m(\u001b[49m\u001b[38;5;124;43m'\u001b[39;49m\u001b[38;5;124;43mtimestamp\u001b[39;49m\u001b[38;5;124;43m'\u001b[39;49m\u001b[43m,\u001b[49m\u001b[43m \u001b[49m\u001b[43minplace\u001b[49m\u001b[38;5;241;43m=\u001b[39;49m\u001b[38;5;28;43;01mTrue\u001b[39;49;00m\u001b[43m)\u001b[49m\n\u001b[1;32m      4\u001b[0m \u001b[38;5;66;03m# Calculate hourly averages of speed and direction\u001b[39;00m\n\u001b[1;32m      5\u001b[0m hourly_averages \u001b[38;5;241m=\u001b[39m wind_data\u001b[38;5;241m.\u001b[39mresample(\u001b[38;5;124m'\u001b[39m\u001b[38;5;124mHH\u001b[39m\u001b[38;5;124m'\u001b[39m)\u001b[38;5;241m.\u001b[39magg({\u001b[38;5;124m'\u001b[39m\u001b[38;5;124mM(m/s)\u001b[39m\u001b[38;5;124m'\u001b[39m: \u001b[38;5;124m'\u001b[39m\u001b[38;5;124mmean\u001b[39m\u001b[38;5;124m'\u001b[39m, \u001b[38;5;124m'\u001b[39m\u001b[38;5;124mD(deg)\u001b[39m\u001b[38;5;124m'\u001b[39m: \u001b[38;5;28;01mlambda\u001b[39;00m x: circmean(x, \u001b[38;5;241m0\u001b[39m, \u001b[38;5;241m360\u001b[39m)})\n",
      "File \u001b[0;32m/opt/anaconda3/envs/vortexpy-dev/lib/python3.9/site-packages/pandas/util/_decorators.py:331\u001b[0m, in \u001b[0;36mdeprecate_nonkeyword_arguments.<locals>.decorate.<locals>.wrapper\u001b[0;34m(*args, **kwargs)\u001b[0m\n\u001b[1;32m    325\u001b[0m \u001b[38;5;28;01mif\u001b[39;00m \u001b[38;5;28mlen\u001b[39m(args) \u001b[38;5;241m>\u001b[39m num_allow_args:\n\u001b[1;32m    326\u001b[0m     warnings\u001b[38;5;241m.\u001b[39mwarn(\n\u001b[1;32m    327\u001b[0m         msg\u001b[38;5;241m.\u001b[39mformat(arguments\u001b[38;5;241m=\u001b[39m_format_argument_list(allow_args)),\n\u001b[1;32m    328\u001b[0m         \u001b[38;5;167;01mFutureWarning\u001b[39;00m,\n\u001b[1;32m    329\u001b[0m         stacklevel\u001b[38;5;241m=\u001b[39mfind_stack_level(),\n\u001b[1;32m    330\u001b[0m     )\n\u001b[0;32m--> 331\u001b[0m \u001b[38;5;28;01mreturn\u001b[39;00m \u001b[43mfunc\u001b[49m\u001b[43m(\u001b[49m\u001b[38;5;241;43m*\u001b[39;49m\u001b[43margs\u001b[49m\u001b[43m,\u001b[49m\u001b[43m \u001b[49m\u001b[38;5;241;43m*\u001b[39;49m\u001b[38;5;241;43m*\u001b[39;49m\u001b[43mkwargs\u001b[49m\u001b[43m)\u001b[49m\n",
      "File \u001b[0;32m/opt/anaconda3/envs/vortexpy-dev/lib/python3.9/site-packages/pandas/core/frame.py:6001\u001b[0m, in \u001b[0;36mDataFrame.set_index\u001b[0;34m(self, keys, drop, append, inplace, verify_integrity)\u001b[0m\n\u001b[1;32m   5998\u001b[0m                 missing\u001b[38;5;241m.\u001b[39mappend(col)\n\u001b[1;32m   6000\u001b[0m \u001b[38;5;28;01mif\u001b[39;00m missing:\n\u001b[0;32m-> 6001\u001b[0m     \u001b[38;5;28;01mraise\u001b[39;00m \u001b[38;5;167;01mKeyError\u001b[39;00m(\u001b[38;5;124mf\u001b[39m\u001b[38;5;124m\"\u001b[39m\u001b[38;5;124mNone of \u001b[39m\u001b[38;5;132;01m{\u001b[39;00mmissing\u001b[38;5;132;01m}\u001b[39;00m\u001b[38;5;124m are in the columns\u001b[39m\u001b[38;5;124m\"\u001b[39m)\n\u001b[1;32m   6003\u001b[0m \u001b[38;5;28;01mif\u001b[39;00m inplace:\n\u001b[1;32m   6004\u001b[0m     frame \u001b[38;5;241m=\u001b[39m \u001b[38;5;28mself\u001b[39m\n",
      "\u001b[0;31mKeyError\u001b[0m: \"None of ['timestamp'] are in the columns\""
     ]
    }
   ],
   "source": [
    "# Set the timestamp column as the index\n",
    "wind_data.set_index('timestamp', inplace=True)\n",
    "\n",
    "# Calculate hourly averages of speed and direction\n",
    "hourly_averages = wind_data.resample('HH').agg({'M(m/s)': 'mean', 'D(deg)': lambda x: circmean(x, 0, 360)})\n",
    "\n",
    "# Calculate daily averages of speed and direction\n",
    "daily_averages = wind_data.resample('DD').agg({'M(m/s)': 'mean', 'D(deg)': lambda x: circmean(x, 0, 360)})\n",
    "\n",
    "# Calculate monthly averages of speed and direction\n",
    "monthly_averages = wind_data.resample('MM').agg({'M(m/s)': 'mean', 'D(deg)': lambda x: circmean(x, 0, 360)})\n",
    "\n",
    "# Calculate yearly averages of speed and direction\n",
    "yearly_averages = wind_data.resample('YYYY').agg({'M(m/s)': 'mean', 'D(deg)': lambda x: circmean(x, 0, 360)})\n",
    "\n",
    "\n",
    "\n",
    "# Print out the first few rows of each average data frame\n",
    "print(hourly_averages.head())\n",
    "print(daily_averages.head())\n",
    "print(monthly_averages.head())\n",
    "print(yearly_averages.head())"
   ]
  },
  {
   "cell_type": "code",
   "execution_count": null,
   "id": "b290338a",
   "metadata": {},
   "outputs": [],
   "source": []
  }
 ],
 "metadata": {
  "kernelspec": {
   "display_name": "vortexpy-dev",
   "language": "python",
   "name": "vortexpy-dev"
  },
  "language_info": {
   "codemirror_mode": {
    "name": "ipython",
    "version": 3
   },
   "file_extension": ".py",
   "mimetype": "text/x-python",
   "name": "python",
   "nbconvert_exporter": "python",
   "pygments_lexer": "ipython3",
   "version": "3.9.15"
  }
 },
 "nbformat": 4,
 "nbformat_minor": 5
}
